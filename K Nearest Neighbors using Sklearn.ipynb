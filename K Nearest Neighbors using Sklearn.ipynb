{
 "cells": [
  {
   "cell_type": "code",
   "execution_count": null,
   "metadata": {
    "collapsed": true
   },
   "outputs": [],
   "source": [
    "#Accuracy- How accurate your algorithm is\n",
    "#Confidence- How confident are you of classification i.e. eg 2/3 = 0.66 ,2- +ves , 1-ves\n",
    "#K points nearer to that point calculaes euclidean distance between that point and other data points\n",
    "#K Means Clustering i.e. cluster ,repeatedly calculate mean so that nearer points are of same group\n",
    "#classified into k groups with similar points\n",
    "#KNN doesn't handle outliers well\n",
    "#useless features affect KNN a lot"
   ]
  },
  {
   "cell_type": "code",
   "execution_count": 26,
   "metadata": {
    "collapsed": false
   },
   "outputs": [
    {
     "name": "stdout",
     "output_type": "stream",
     "text": [
      "0.970571428571\n"
     ]
    }
   ],
   "source": [
    "import numpy as np\n",
    "from sklearn import preprocessing,cross_validation,neighbors\n",
    "import pandas as pd\n",
    "accuracies=[]\n",
    "for i in range(500):\n",
    "    df=pd.read_csv(\"breast-cancer-wisconsin.data.txt\")\n",
    "    df.replace('?',-99999,inplace=True)#make it outlier\n",
    "    df.drop(['id'],1,inplace=True)#id has no role in prediction. So, will have -ve affect on KNN\n",
    "\n",
    "    #KNN has a radius \n",
    "    #KNN works on linear and non-linear data\n",
    "    X=np.array(df.drop(['class'],1))\n",
    "    y=np.array(df['class'])\n",
    "    X_train , X_test , y_train , y_test = cross_validation.train_test_split(X,y,test_size=0.2)\n",
    "    clf=neighbors.KNeighborsClassifier(n_jobs=-1)#Threaded to perform max. jobs as possible\n",
    "    clf.fit(X_train , y_train)\n",
    "    accuracy=clf.score(X_test,y_test)\n",
    "    #print(accuracy)\n",
    "    accuracies.append(accuracy)\n",
    "print(sum(accuracies)/len(accuracies))"
   ]
  },
  {
   "cell_type": "code",
   "execution_count": 23,
   "metadata": {
    "collapsed": false
   },
   "outputs": [
    {
     "name": "stdout",
     "output_type": "stream",
     "text": [
      "[2 2]\n"
     ]
    }
   ],
   "source": [
    "#example_measures=np.array([[4,2,1,1,1,2,3,2,1],[4,2,1,2,2,2,3,2,1]])\n",
    "#example_measures=example_measures.reshape(len(example_measures),1)\n",
    "#prediction=clf.predict(example_measures)\n",
    "#print(prediction)"
   ]
  },
  {
   "cell_type": "code",
   "execution_count": null,
   "metadata": {
    "collapsed": true
   },
   "outputs": [],
   "source": []
  }
 ],
 "metadata": {
  "anaconda-cloud": {},
  "kernelspec": {
   "display_name": "Python [default]",
   "language": "python",
   "name": "python3"
  },
  "language_info": {
   "codemirror_mode": {
    "name": "ipython",
    "version": 3
   },
   "file_extension": ".py",
   "mimetype": "text/x-python",
   "name": "python",
   "nbconvert_exporter": "python",
   "pygments_lexer": "ipython3",
   "version": "3.5.2"
  }
 },
 "nbformat": 4,
 "nbformat_minor": 1
}
