{
 "cells": [
  {
   "cell_type": "code",
   "execution_count": 40,
   "metadata": {
    "collapsed": false
   },
   "outputs": [
    {
     "name": "stdout",
     "output_type": "stream",
     "text": [
      "0.9568345323741008\n"
     ]
    }
   ],
   "source": [
    "import numpy as np\n",
    "import pandas as pd#To load data set\n",
    "from math import sqrt\n",
    "import warnings\n",
    "import random#to shuffle dataset\n",
    "from collections import Counter\n",
    "\n",
    "\n",
    "def K_nearest_neighbors(data,predict , k=3):\n",
    "    if len(data)>=k:\n",
    "        warning.warn('K is set to a value less than the total voting groups')\n",
    "    distances=[]\n",
    "    for group in data:\n",
    "        for features in data[group]:\n",
    "            euclidean_distance=np.linalg.norm(np.array(features)-np.array(predict))#euclidean distance using linear algebra func\n",
    "            distances.append([euclidean_distance , group])#Distance and class\n",
    "    votes=[i[1] for i in sorted(distances)[:k]]#only till min k classes\n",
    "    vote_result=Counter(votes).most_common(1) [0][0] #returns predicted class\n",
    "    confidence=Counter(votes).most_common(1) [0][0]/k\n",
    "    return vote_result ,confidence     \n",
    "accuracies=[]\n",
    "for i in range(1):\n",
    "    #Read and Replace\n",
    "    df=pd.read_csv(\"breast-cancer-wisconsin.data.txt\")\n",
    "    df.replace('?',-99999,inplace=True)\n",
    "    #Drop useless columns\n",
    "    df.drop(['id'],1,inplace=True)\n",
    "    #Get Full data as int or float\n",
    "    full_data=df.astype(float).values.tolist()#converted this to a list of lists\n",
    "    #convert values to float to reuse data and make sure that data is in int or float, don't come in string(quotes)\n",
    "    random.shuffle(full_data)\n",
    "    #Define Train and Test\n",
    "    test_size=0.2\n",
    "    train_set={2 : [],4 : []}\n",
    "    test_set={2 :[],4 :[]}\n",
    "    train_data=full_data[:-int(test_size*len(full_data))]#everything till last 20%\n",
    "    test_data=full_data[-int(test_size*len(full_data)):]#last 20%\n",
    "    #Finalise datasets\n",
    "    for i in train_data:\n",
    "        train_set[i[-1]].append(i[:-1])#up untill the last element , thus ignoring class(Not taking as attribute)\n",
    "        #i[-1]is class value of train_data. So , for that class value in train_set, append all columns up untill last one(class)\n",
    "    for i in test_data:\n",
    "        test_set[i[-1]].append(i[:-1])\n",
    "\n",
    "    correct=0\n",
    "    total=0\n",
    "    for group in test_set:\n",
    "        for data in test_set[group]:\n",
    "            vote,confidence=K_nearest_neighbors(train_set,data,5)#Sent train_set list of list and prediction single value\n",
    "            #Now, These votes are calculated by euclid distance b/w predict and single train value to find k nearest neighbors\n",
    "            #of predict value by sorting and taking k smallest valuues , getting votes of classes and returning votes  \n",
    "            if(group==vote):\n",
    "                correct+=1#if predicted value is same as label\n",
    "            total+=1    \n",
    "   # print('Accuracy:',correct/total)   \n",
    "    accuracies.append(correct/total)\n",
    "print(sum(accuracies)/len(accuracies))"
   ]
  },
  {
   "cell_type": "code",
   "execution_count": null,
   "metadata": {
    "collapsed": true
   },
   "outputs": [],
   "source": []
  },
  {
   "cell_type": "code",
   "execution_count": null,
   "metadata": {
    "collapsed": true
   },
   "outputs": [],
   "source": []
  }
 ],
 "metadata": {
  "anaconda-cloud": {},
  "kernelspec": {
   "display_name": "Python [default]",
   "language": "python",
   "name": "python3"
  },
  "language_info": {
   "codemirror_mode": {
    "name": "ipython",
    "version": 3
   },
   "file_extension": ".py",
   "mimetype": "text/x-python",
   "name": "python",
   "nbconvert_exporter": "python",
   "pygments_lexer": "ipython3",
   "version": "3.5.2"
  }
 },
 "nbformat": 4,
 "nbformat_minor": 1
}
